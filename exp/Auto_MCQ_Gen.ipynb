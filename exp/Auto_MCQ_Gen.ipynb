{
  "cells": [
    {
      "cell_type": "code",
      "execution_count": 96,
      "metadata": {
        "id": "cR3aJhKcnXFs"
      },
      "outputs": [],
      "source": [
        "import os\n",
        "import json\n",
        "import re\n",
        "import pandas as pd"
      ]
    },
    {
      "cell_type": "code",
      "execution_count": 97,
      "metadata": {},
      "outputs": [],
      "source": [
        "from dotenv import load_dotenv\n",
        "\n",
        "load_dotenv()\n",
        "\n",
        "GOOGLE_API_KEY = os.getenv(\"GOOGLE_API_KEY\")"
      ]
    },
    {
      "cell_type": "code",
      "execution_count": 98,
      "metadata": {},
      "outputs": [],
      "source": [
        "from langchain_google_genai import ChatGoogleGenerativeAI\n",
        "from langchain.prompts import PromptTemplate\n",
        "from langchain.chains import LLMChain\n",
        "from langchain.chains import SequentialChain"
      ]
    },
    {
      "cell_type": "code",
      "execution_count": 99,
      "metadata": {
        "id": "Ui1Qeg8MnXF1"
      },
      "outputs": [],
      "source": [
        "RESPONSE_JSON = {\n",
        "    \"1\": {\n",
        "        \"mcq\": \"multiple choice question\",\n",
        "        \"options\": {\n",
        "            \"a\": \"choice here\",\n",
        "            \"b\": \"choice here\",\n",
        "            \"c\": \"choice here\",\n",
        "            \"d\": \"choice here\",\n",
        "        },\n",
        "        \"correct\": \"correct answer\",\n",
        "    },\n",
        "    \"2\": {\n",
        "        \"mcq\": \"multiple choice question\",\n",
        "        \"options\": {\n",
        "            \"a\": \"choice here\",\n",
        "            \"b\": \"choice here\",\n",
        "            \"c\": \"choice here\",\n",
        "            \"d\": \"choice here\",\n",
        "        },\n",
        "        \"correct\": \"correct answer\",\n",
        "    },\n",
        "    \"3\": {\n",
        "        \"mcq\": \"multiple choice question\",\n",
        "        \"options\": {\n",
        "            \"a\": \"choice here\",\n",
        "            \"b\": \"choice here\",\n",
        "            \"c\": \"choice here\",\n",
        "            \"d\": \"choice here\",\n",
        "        },\n",
        "        \"correct\": \"correct answer\",\n",
        "    },\n",
        "}\n"
      ]
    },
    {
      "cell_type": "code",
      "execution_count": 100,
      "metadata": {
        "id": "jrucdHiunXF0"
      },
      "outputs": [],
      "source": [
        "TEMPLATE=\"\"\"\n",
        "Text:{text}\n",
        "You are an expert MCQ maker. Given the above text, it is your job to \\\n",
        "create a quiz  of {number} multiple choice questions for {subject} students in {tone} tone.\n",
        "Make sure the questions are not repeated and check all the questions to be conforming the text as well.\n",
        "Make sure to format your response like  RESPONSE_JSON below  and use it as a guide. \\\n",
        "Ensure to make {number} MCQs\n",
        "### RESPONSE_JSON\n",
        "{response_json}\n",
        "\n",
        "\"\"\""
      ]
    },
    {
      "cell_type": "code",
      "execution_count": 101,
      "metadata": {
        "id": "xAa6aAsh4DOu"
      },
      "outputs": [],
      "source": [
        "quiz_generation_prompt = PromptTemplate(\n",
        "    input_variables=[\"text\", \"number\", \"subject\", \"tone\", \"response_json\"],\n",
        "    template=TEMPLATE\n",
        "    )\n"
      ]
    },
    {
      "cell_type": "code",
      "execution_count": 102,
      "metadata": {},
      "outputs": [],
      "source": [
        "TEMPLATE2=\"\"\"\n",
        "You are an expert english grammarian and writer.\n",
        "If the quiz is not at per with the cognitive and analytical abilities of the students,\\\n",
        "update the quiz questions which needs to be changed and change the tone such that it perfectly fits the student abilities\n",
        "Quiz_MCQs:\n",
        "{quiz}\n",
        "(ONLY generate the updated quiz in the quiz format, nothing more)\n",
        "Check from an expert English Writer of the above quiz:\n",
        "\"\"\""
      ]
    },
    {
      "cell_type": "code",
      "execution_count": 103,
      "metadata": {
        "id": "gGk_k50dnXF0"
      },
      "outputs": [],
      "source": [
        "quiz_evaluation_prompt=PromptTemplate(input_variables=[\"quiz\"], template=TEMPLATE2)"
      ]
    },
    {
      "cell_type": "code",
      "execution_count": 104,
      "metadata": {},
      "outputs": [],
      "source": [
        "TEMPLATE3='''\n",
        "{updated_quiz}\n",
        "Given a Multiple Choice Quiz for {subject} students.\\\n",
        "You need to evaluate the complexity of the question but ONLY use at max 50 words for complexity analysis. DON'T Mention the quiz is revised or updated\n",
        "'''"
      ]
    },
    {
      "cell_type": "code",
      "execution_count": 105,
      "metadata": {
        "id": "hEBlHaUsqtAH"
      },
      "outputs": [],
      "source": [
        "complexity_analysis_prompt=PromptTemplate(input_variables=[\"updated_quiz\", \"subject\"], template=TEMPLATE3)"
      ]
    },
    {
      "cell_type": "code",
      "execution_count": 106,
      "metadata": {},
      "outputs": [],
      "source": [
        "with open(r'C:\\Users\\afz31\\mcq_gen\\data.txt') as file:\n",
        "        TEXT = file.read()"
      ]
    },
    {
      "cell_type": "code",
      "execution_count": 107,
      "metadata": {},
      "outputs": [],
      "source": [
        "NUMBER=5\n",
        "SUBJECT=\"biology\"\n",
        "TONE=\"simple\""
      ]
    },
    {
      "cell_type": "code",
      "execution_count": 108,
      "metadata": {
        "id": "TWGwlvuKnXF2"
      },
      "outputs": [],
      "source": [
        "def generate_quiz():\n",
        "    model_options = [\"gemini-1.5-pro\", \"gemini-1.5-flash-8b\"]\n",
        "    for model in model_options:\n",
        "        try:\n",
        "            llm = ChatGoogleGenerativeAI(model=model)\n",
        "            generate_chain = LLMChain(llm=llm, prompt=quiz_generation_prompt, output_key=\"quiz\", verbose=True)\n",
        "            evaluate_chain = LLMChain(llm=llm, prompt=quiz_evaluation_prompt, output_key=\"updated_quiz\", verbose=True)\n",
        "            analysis_chain = LLMChain(llm=llm, prompt=complexity_analysis_prompt, output_key=\"complexity_analysis\", verbose=True)\n",
        "            \n",
        "            gen_eval_analysis_chain = SequentialChain(\n",
        "                chains=[generate_chain, evaluate_chain, analysis_chain],\n",
        "                input_variables=[\"text\", \"number\", \"subject\", \"tone\", \"response_json\"],\n",
        "                output_variables=[\"updated_quiz\", \"complexity_analysis\"],\n",
        "                verbose=True,\n",
        "            )\n",
        "            \n",
        "            return gen_eval_analysis_chain({\n",
        "                \"text\": TEXT,\n",
        "                \"number\": NUMBER,\n",
        "                \"subject\": SUBJECT,\n",
        "                \"tone\": TONE,\n",
        "                \"response_json\": json.dumps(RESPONSE_JSON),\n",
        "            })\n",
        "        except Exception as e:\n",
        "            print(f\"Error with model {model}: {e}\")\n",
        "            print(\"Trying again with the next available model...\")\n",
        "\n",
        "    raise RuntimeError(\"All models failed to generate the quiz.\")"
      ]
    },
    {
      "cell_type": "code",
      "execution_count": 109,
      "metadata": {
        "id": "KfmpYPS2WgqE"
      },
      "outputs": [
        {
          "name": "stdout",
          "output_type": "stream",
          "text": [
            "\n",
            "\n",
            "\u001b[1m> Entering new SequentialChain chain...\u001b[0m\n",
            "\n",
            "\n",
            "\u001b[1m> Entering new LLMChain chain...\u001b[0m\n",
            "Prompt after formatting:\n",
            "\u001b[32;1m\u001b[1;3m\n",
            "Text:The PyPDF2 package is a pure-Python PDF library that you can use for splitting, merging, cropping and transforming pages in your PDFs. It can also add custom data, viewing options, and passwords to PDF files. It can extract text data from PDF files, and you can also use it to read and modify existing PDF files.\n",
            "\n",
            "You are an expert MCQ maker. Given the above text, it is your job to create a quiz  of 5 multiple choice questions for biology students in simple tone.\n",
            "Make sure the questions are not repeated and check all the questions to be conforming the text as well.\n",
            "Make sure to format your response like  RESPONSE_JSON below  and use it as a guide. Ensure to make 5 MCQs\n",
            "### RESPONSE_JSON\n",
            "{\"1\": {\"mcq\": \"multiple choice question\", \"options\": {\"a\": \"choice here\", \"b\": \"choice here\", \"c\": \"choice here\", \"d\": \"choice here\"}, \"correct\": \"correct answer\"}, \"2\": {\"mcq\": \"multiple choice question\", \"options\": {\"a\": \"choice here\", \"b\": \"choice here\", \"c\": \"choice here\", \"d\": \"choice here\"}, \"correct\": \"correct answer\"}, \"3\": {\"mcq\": \"multiple choice question\", \"options\": {\"a\": \"choice here\", \"b\": \"choice here\", \"c\": \"choice here\", \"d\": \"choice here\"}, \"correct\": \"correct answer\"}}\n",
            "\n",
            "\u001b[0m\n",
            "\n",
            "\u001b[1m> Finished chain.\u001b[0m\n",
            "\n",
            "\n",
            "\u001b[1m> Entering new LLMChain chain...\u001b[0m\n",
            "Prompt after formatting:\n",
            "\u001b[32;1m\u001b[1;3m\n",
            "You are an expert english grammarian and writer.\n",
            "If the quiz is not at per with the cognitive and analytical abilities of the students,update the quiz questions which needs to be changed and change the tone such that it perfectly fits the student abilities\n",
            "Quiz_MCQs:\n",
            "```json\n",
            "{\n",
            "  \"1\": {\n",
            "    \"mcq\": \"What is the PyPDF2 package primarily used for?\",\n",
            "    \"options\": {\n",
            "      \"a\": \"Creating presentations\",\n",
            "      \"b\": \"Working with PDF files\",\n",
            "      \"c\": \"Analyzing biological data\",\n",
            "      \"d\": \"Writing code in Python\"\n",
            "    },\n",
            "    \"correct\": \"b\"\n",
            "  },\n",
            "  \"2\": {\n",
            "    \"mcq\": \"Which of these actions can PyPDF2 perform on PDF pages?\",\n",
            "    \"options\": {\n",
            "      \"a\": \"Splitting and merging\",\n",
            "      \"b\": \"Enlarging and shrinking images \",\n",
            "      \"c\": \"Identifying different species of plants\",\n",
            "      \"d\": \"Calculating the area of a leaf\"\n",
            "    },\n",
            "    \"correct\": \"a\"\n",
            "  },\n",
            "  \"3\": {\n",
            "    \"mcq\": \"PyPDF2 can add which of the following to PDF files?\",\n",
            "    \"options\": {\n",
            "      \"a\": \"Watermarks and animations\",\n",
            "      \"b\": \"Passwords and viewing options\",\n",
            "      \"c\": \"Microscopic images of cells\",\n",
            "      \"d\": \"Genetic sequences of organisms\"\n",
            "    },\n",
            "    \"correct\": \"b\"\n",
            "  },\n",
            "  \"4\": {\n",
            "    \"mcq\": \"Can PyPDF2 extract information from PDF files?\",\n",
            "    \"options\": {\n",
            "      \"a\": \"Yes, it can extract text data.\",\n",
            "      \"b\": \"Yes, it can extract images and tables.\",\n",
            "      \"c\": \"No, it can only modify existing PDF files.\",\n",
            "      \"d\": \"No, it can only create new PDF files.\"\n",
            "    },\n",
            "    \"correct\": \"a\"\n",
            "  },\n",
            "  \"5\": {\n",
            "    \"mcq\": \"Is PyPDF2 written entirely in Python?\",\n",
            "    \"options\": {\n",
            "      \"a\": \"Yes, it's a pure-Python library.\",\n",
            "      \"b\": \"No, it uses a combination of languages.\",\n",
            "      \"c\": \"It's partially written in Python, but relies on other software.\",\n",
            "      \"d\": \"It's written in a language specifically designed for PDF manipulation.\"\n",
            "    },\n",
            "    \"correct\": \"a\"\n",
            "  }\n",
            "}\n",
            "```\n",
            "(ONLY generate the updated quiz in the quiz format, nothing more)\n",
            "Check from an expert English Writer of the above quiz:\n",
            "\u001b[0m\n",
            "\n",
            "\u001b[1m> Finished chain.\u001b[0m\n",
            "\n",
            "\n",
            "\u001b[1m> Entering new LLMChain chain...\u001b[0m\n",
            "Prompt after formatting:\n",
            "\u001b[32;1m\u001b[1;3m\n",
            "```json\n",
            "{\n",
            "  \"1\": {\n",
            "    \"mcq\": \"The PyPDF2 package in Python is primarily designed for:\",\n",
            "    \"options\": {\n",
            "      \"a\": \"Manipulating and interacting with PDF files.\",\n",
            "      \"b\": \"Creating and editing presentations.\",\n",
            "      \"c\": \"Performing complex statistical analysis.\",\n",
            "      \"d\": \"Developing web applications.\"\n",
            "    },\n",
            "    \"correct\": \"a\"\n",
            "  },\n",
            "  \"2\": {\n",
            "    \"mcq\": \"PyPDF2 allows you to perform which of the following actions on PDF pages?\",\n",
            "    \"options\": {\n",
            "      \"a\": \"Combining and separating pages.\",\n",
            "      \"b\": \"Modifying image sizes within the PDF.\",\n",
            "      \"c\": \"Converting PDF files to other document formats.\",\n",
            "      \"d\": \"Performing optical character recognition (OCR).\"\n",
            "    },\n",
            "    \"correct\": \"a\"\n",
            "  },\n",
            "  \"3\": {\n",
            "    \"mcq\": \"Which security features can be added to PDF files using PyPDF2?\",\n",
            "    \"options\": {\n",
            "      \"a\": \"Adding interactive elements like animations.\",\n",
            "      \"b\": \"Setting passwords and restricting viewing permissions.\",\n",
            "      \"c\": \"Encrypting the entire PDF document with advanced algorithms.\",\n",
            "      \"d\": \"Digitally signing the PDF for authentication purposes.\"\n",
            "    },\n",
            "    \"correct\": \"b\"\n",
            "  },\n",
            "  \"4\": {\n",
            "    \"mcq\": \"What type of information can PyPDF2 extract from PDF files?\",\n",
            "    \"options\": {\n",
            "      \"a\": \"Text content.\",\n",
            "      \"b\": \"Embedded images and tables.\",\n",
            "      \"c\": \"Metadata, such as author and creation date.\",\n",
            "      \"d\": \"Form field data.\"\n",
            "    },\n",
            "    \"correct\": \"a\"\n",
            "  },\n",
            "  \"5\": {\n",
            "    \"mcq\": \"In terms of its programming language implementation, PyPDF2 is:\",\n",
            "    \"options\": {\n",
            "      \"a\": \"Written entirely in Python.\",\n",
            "      \"b\": \"Built using a combination of Python and C++.\",\n",
            "      \"c\": \"Primarily written in Java with Python bindings.\",\n",
            "      \"d\": \"Developed using a specialized PDF scripting language.\"\n",
            "    },\n",
            "    \"correct\": \"a\"\n",
            "  }\n",
            "}\n",
            "```\n",
            "\n",
            "Given a Multiple Choice Quiz for biology students.You need to evaluate the complexity of the question but ONLY use at max 50 words for complexity analysis. DON'T Mention the quiz is revised or updated\n",
            "\u001b[0m\n",
            "\n",
            "\u001b[1m> Finished chain.\u001b[0m\n",
            "\n",
            "\u001b[1m> Finished chain.\u001b[0m\n"
          ]
        }
      ],
      "source": [
        "response = generate_quiz()"
      ]
    },
    {
      "cell_type": "code",
      "execution_count": 110,
      "metadata": {
        "id": "DEjcdk7xnXF2"
      },
      "outputs": [],
      "source": [
        "# Regular expression to extract MCQs, options, and answers\n",
        "pattern = r'\"mcq\": \"(.*?)\".*?\"options\": \\{(.*?)\\}.*?\"correct\": \"(.*?)\"'\n",
        "\n",
        "# Find all matches\n",
        "matches = re.findall(pattern, response.get(\"updated_quiz\"), re.DOTALL)\n",
        "\n",
        "# Process each match\n",
        "quiz_data = []\n",
        "for mcq, options_str, correct in matches:\n",
        "    # Extract individual options\n",
        "    options_pattern = r'\"([a-d])\": \"(.*?)\"'\n",
        "    options = re.findall(options_pattern, options_str)\n",
        "\n",
        "    # Create a dictionary for the question\n",
        "    question = {\n",
        "        \"mcq\": mcq.strip(),\n",
        "        \"options\": {key: value.strip() for key, value in options},\n",
        "        \"correct\": correct.strip(),\n",
        "    }\n",
        "    quiz_data.append(question)"
      ]
    },
    {
      "cell_type": "code",
      "execution_count": 111,
      "metadata": {
        "id": "CWk1PDe1XXGl"
      },
      "outputs": [],
      "source": [
        "quiz=pd.DataFrame(quiz_data)"
      ]
    },
    {
      "cell_type": "code",
      "execution_count": 112,
      "metadata": {},
      "outputs": [],
      "source": [
        "quiz.to_csv(\"quiz_data.csv\",index=False)"
      ]
    }
  ],
  "metadata": {
    "colab": {
      "provenance": []
    },
    "kernelspec": {
      "display_name": "venv",
      "language": "python",
      "name": "python3"
    },
    "language_info": {
      "codemirror_mode": {
        "name": "ipython",
        "version": 3
      },
      "file_extension": ".py",
      "mimetype": "text/x-python",
      "name": "python",
      "nbconvert_exporter": "python",
      "pygments_lexer": "ipython3",
      "version": "3.12.7"
    }
  },
  "nbformat": 4,
  "nbformat_minor": 0
}
