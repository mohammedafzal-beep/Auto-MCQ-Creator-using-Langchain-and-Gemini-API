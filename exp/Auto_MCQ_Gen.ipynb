{
  "cells": [
    {
      "cell_type": "code",
      "execution_count": 28,
      "metadata": {
        "id": "cR3aJhKcnXFs"
      },
      "outputs": [],
      "source": [
        "import os\n",
        "import json\n",
        "import pandas as pd\n",
        "from PyPDF2 import PdfReader"
      ]
    },
    {
      "cell_type": "code",
      "execution_count": 29,
      "metadata": {
        "colab": {
          "base_uri": "https://localhost:8080/"
        },
        "id": "lW2YyAd6WIHS",
        "outputId": "9e58d968-d398-4d7d-e059-743a87e1bd8c"
      },
      "outputs": [],
      "source": [
        "file_path = r\"C:\\Users\\afz31\\mcq_gen\\data.txt\"\n",
        "with open(file_path, 'r') as file:\n",
        "    text = file.read()"
      ]
    },
    {
      "cell_type": "code",
      "execution_count": 30,
      "metadata": {
        "id": "Ui1Qeg8MnXF1"
      },
      "outputs": [],
      "source": [
        "response_json = {\n",
        "    \"1\": {\n",
        "        \"mcq\": \"multiple choice question\",\n",
        "        \"options\": {\n",
        "            \"a\": \"choice here\",\n",
        "            \"b\": \"choice here\",\n",
        "            \"c\": \"choice here\",\n",
        "            \"d\": \"choice here\",\n",
        "        },\n",
        "        \"correct\": \"correct answer\",\n",
        "    },\n",
        "}"
      ]
    },
    {
      "cell_type": "code",
      "execution_count": 31,
      "metadata": {
        "id": "jrucdHiunXF0"
      },
      "outputs": [],
      "source": [
        "prompt=f\"\"\"\n",
        "{text}\n",
        "Create some unique MCQs in json string like below:\n",
        "{response_json}\n",
        "\"\"\""
      ]
    },
    {
      "cell_type": "code",
      "execution_count": 32,
      "metadata": {
        "id": "xAa6aAsh4DOu"
      },
      "outputs": [],
      "source": [
        "from huggingface_hub import InferenceClient"
      ]
    },
    {
      "cell_type": "code",
      "execution_count": 33,
      "metadata": {},
      "outputs": [
        {
          "data": {
            "text/plain": [
              "True"
            ]
          },
          "execution_count": 33,
          "metadata": {},
          "output_type": "execute_result"
        }
      ],
      "source": [
        "from dotenv import load_dotenv\n",
        "\n",
        "load_dotenv()  # take environment variables from .env."
      ]
    },
    {
      "cell_type": "code",
      "execution_count": 34,
      "metadata": {},
      "outputs": [],
      "source": [
        "KEY=os.getenv(\"KEY\")"
      ]
    },
    {
      "cell_type": "code",
      "execution_count": 35,
      "metadata": {
        "id": "gGk_k50dnXF0"
      },
      "outputs": [],
      "source": [
        "# Initialize the client\n",
        "client = InferenceClient(api_key=KEY)\n",
        "\n",
        "# Define the message\n",
        "messages = [\n",
        "    {\n",
        "        \"role\": \"user\",\n",
        "        \"content\": prompt\n",
        "    }\n",
        "]\n",
        "\n",
        "# Attempt to get a response\n",
        "completion = client.chat.completions.create(\n",
        "    model=\"Qwen/Qwen2.5-72B-Instruct\",\n",
        "    messages=messages,\n",
        ")\n",
        "\n",
        "quiz = completion.choices[0].message.content"
      ]
    },
    {
      "cell_type": "code",
      "execution_count": 36,
      "metadata": {
        "id": "hEBlHaUsqtAH"
      },
      "outputs": [],
      "source": [
        "import re"
      ]
    },
    {
      "cell_type": "code",
      "execution_count": 37,
      "metadata": {
        "id": "TWGwlvuKnXF2"
      },
      "outputs": [],
      "source": [
        "# Regex to extract questions, options, and answers\n",
        "pattern = r'\"(\\d+)\": {\\s*\"mcq\": \"(.*?)\",\\s*\"options\": {\\s*\"a\": \"(.*?)\",\\s*\"b\": \"(.*?)\",\\s*\"c\": \"(.*?)\",\\s*\"d\": \"(.*?)\"\\s*},\\s*\"correct\": \"(.*?)\"\\s*}'\n",
        "\n",
        "matches = re.findall(pattern, quiz)\n",
        "\n",
        "# Create a list of dictionaries to store the MCQs\n",
        "mcqs = []\n",
        "for match in matches:\n",
        "    question, option_a, option_b, option_c, option_d, answer_key, answer_text = match\n",
        "    mcqs.append({\n",
        "        \"question\": question.strip(),\n",
        "        \"options\": {\n",
        "            \"A\": option_a.strip(),\n",
        "            \"B\": option_b.strip(),\n",
        "            \"C\": option_c.strip(),\n",
        "            \"D\": option_d.strip()\n",
        "        },\n",
        "        \"answer\": {\n",
        "            \"key\": answer_key.strip(),\n",
        "            \"text\": answer_text.strip()\n",
        "        }\n",
        "    })"
      ]
    },
    {
      "cell_type": "code",
      "execution_count": 38,
      "metadata": {
        "id": "KfmpYPS2WgqE"
      },
      "outputs": [],
      "source": [
        "# Convert the MCQs list to a JSON string\n",
        "mcqs_json = json.dumps(mcqs, indent=4)"
      ]
    },
    {
      "cell_type": "code",
      "execution_count": 39,
      "metadata": {
        "id": "DEjcdk7xnXF2"
      },
      "outputs": [],
      "source": [
        "data = []\n",
        "for mcq in mcqs:\n",
        "    data.append({\n",
        "        \"question\": mcq[\"question\"],\n",
        "        \"option_A\": mcq[\"options\"][\"A\"],\n",
        "        \"option_B\": mcq[\"options\"][\"B\"],\n",
        "        \"option_C\": mcq[\"options\"][\"C\"],\n",
        "        \"option_D\": mcq[\"options\"][\"D\"],\n",
        "        \"answer_key\": mcq[\"answer\"][\"key\"],\n",
        "        \"answer_text\": mcq[\"answer\"][\"text\"]\n",
        "    })\n",
        "\n",
        "# Create the DataFrame\n",
        "df = pd.DataFrame(data)"
      ]
    },
    {
      "cell_type": "code",
      "execution_count": 40,
      "metadata": {
        "id": "CWk1PDe1XXGl"
      },
      "outputs": [],
      "source": [
        "df.to_csv(\"quiz_data.csv\",index=False)"
      ]
    },
    {
      "cell_type": "code",
      "execution_count": null,
      "metadata": {},
      "outputs": [],
      "source": [
        "from datetime import datetime\n",
        "\n",
        "datetime.now().strftime('%m_%d_%Y_%H_%M_%S')"
      ]
    }
  ],
  "metadata": {
    "colab": {
      "provenance": []
    },
    "kernelspec": {
      "display_name": "venv",
      "language": "python",
      "name": "python3"
    },
    "language_info": {
      "codemirror_mode": {
        "name": "ipython",
        "version": 3
      },
      "file_extension": ".py",
      "mimetype": "text/x-python",
      "name": "python",
      "nbconvert_exporter": "python",
      "pygments_lexer": "ipython3",
      "version": "3.12.7"
    }
  },
  "nbformat": 4,
  "nbformat_minor": 0
}
